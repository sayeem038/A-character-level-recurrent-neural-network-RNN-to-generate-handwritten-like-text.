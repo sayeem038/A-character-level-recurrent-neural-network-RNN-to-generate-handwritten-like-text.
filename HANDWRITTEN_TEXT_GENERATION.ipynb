{
  "nbformat": 4,
  "nbformat_minor": 0,
  "metadata": {
    "colab": {
      "provenance": [],
      "mount_file_id": "1Ie3sGHWErJCraxW6GUWC-T2sGnWTiJzL",
      "authorship_tag": "ABX9TyOKJuPg7IYUdXOkSkJ6gh5f",
      "include_colab_link": true
    },
    "kernelspec": {
      "name": "python3",
      "display_name": "Python 3"
    },
    "language_info": {
      "name": "python"
    }
  },
  "cells": [
    {
      "cell_type": "markdown",
      "metadata": {
        "id": "view-in-github",
        "colab_type": "text"
      },
      "source": [
        "<a href=\"https://colab.research.google.com/github/sayeem038/Character-level-recurrent-neural-network-RNN-to-generate-handwritten-like-text./blob/main/HANDWRITTEN_TEXT_GENERATION.ipynb\" target=\"_parent\"><img src=\"https://colab.research.google.com/assets/colab-badge.svg\" alt=\"Open In Colab\"/></a>"
      ]
    },
    {
      "cell_type": "markdown",
      "source": [
        "Step 1: Set Up Your Colab Environment\n",
        "Open Google Colab: Go to Google Colab.\n",
        "\n",
        "Create a New Notebook: Click on \"File\" > \"New notebook\".\n",
        "\n",
        "Step 2: Import Necessary Libraries\n",
        "Start by importing the necessary libraries."
      ],
      "metadata": {
        "id": "MLz17YrUkLRU"
      }
    },
    {
      "cell_type": "code",
      "source": [
        "import numpy as np\n",
        "import tensorflow as tf\n",
        "from tensorflow.keras.models import Sequential\n",
        "from tensorflow.keras.layers import LSTM, Dense, Embedding\n",
        "import os\n"
      ],
      "metadata": {
        "id": "e79G-748e-WO"
      },
      "execution_count": 4,
      "outputs": []
    },
    {
      "cell_type": "markdown",
      "source": [
        "Step 3: Load and Preprocess the Dataset\n",
        "Download the Dataset:\n",
        "Download the IAM Handwriting Database from Papers with Code.\n",
        "\n",
        "Upload the Dataset to Colab:\n",
        "\n",
        "Click on the folder icon on the left sidebar.\n",
        "Click on the upload icon and upload your dataset files.\n",
        "Load the Data:\n",
        "Assuming the dataset is in a text file format:"
      ],
      "metadata": {
        "id": "dNzMQnO1kOHp"
      }
    },
    {
      "source": [
        "# Path to your uploaded file\n",
        "path_to_file = \"/content/IAM-0000003255-109cf78d.jpg\"\n",
        "\n",
        "# Load the image using an image processing library like Pillow\n",
        "from PIL import Image\n",
        "image = Image.open(path_to_file)\n",
        "\n",
        "# Further processing of the image as needed\n",
        "# ..."
      ],
      "cell_type": "code",
      "metadata": {
        "id": "9LucC41hftXK"
      },
      "execution_count": 7,
      "outputs": []
    },
    {
      "cell_type": "markdown",
      "source": [
        "Step 4: Define the Model\n",
        "Define an RNN model using LSTM."
      ],
      "metadata": {
        "id": "1yG_rU60kTB9"
      }
    },
    {
      "cell_type": "code",
      "source": [
        "import tensorflow as tf\n",
        "from tensorflow.keras.models import Sequential\n",
        "from tensorflow.keras.layers import Embedding, LSTM, Dense\n",
        "\n",
        "# Sample vocabulary for demonstration purposes\n",
        "vocab = [\"a\", \"b\", \"c\", \"d\", \"e\"]  # Example vocabulary\n",
        "vocab_size = len(vocab)\n",
        "\n",
        "# The embedding dimension\n",
        "embedding_dim = 256\n",
        "\n",
        "# Number of RNN units\n",
        "rnn_units = 1024\n",
        "\n",
        "# Define BATCH_SIZE\n",
        "BATCH_SIZE = 64\n",
        "\n",
        "model = Sequential([\n",
        "    Embedding(vocab_size, embedding_dim, batch_input_shape=[BATCH_SIZE, None]),\n",
        "    LSTM(rnn_units, return_sequences=True, stateful=True, recurrent_initializer='glorot_uniform'),\n",
        "    Dense(vocab_size)\n",
        "])\n",
        "\n",
        "def loss(labels, logits):\n",
        "    return tf.keras.losses.sparse_categorical_crossentropy(labels, logits, from_logits=True)\n",
        "\n",
        "model.compile(optimizer='adam', loss=loss)\n",
        "\n",
        "# Print model summary\n",
        "model.summary()\n"
      ],
      "metadata": {
        "colab": {
          "base_uri": "https://localhost:8080/"
        },
        "id": "i5lrjR-ZgfYl",
        "outputId": "b32a4d70-4106-4ddd-c815-fc302114fbc4"
      },
      "execution_count": 12,
      "outputs": [
        {
          "output_type": "stream",
          "name": "stdout",
          "text": [
            "Model: \"sequential_2\"\n",
            "_________________________________________________________________\n",
            " Layer (type)                Output Shape              Param #   \n",
            "=================================================================\n",
            " embedding (Embedding)       (64, None, 256)           1280      \n",
            "                                                                 \n",
            " lstm_1 (LSTM)               (64, None, 1024)          5246976   \n",
            "                                                                 \n",
            " dense (Dense)               (64, None, 5)             5125      \n",
            "                                                                 \n",
            "=================================================================\n",
            "Total params: 5253381 (20.04 MB)\n",
            "Trainable params: 5253381 (20.04 MB)\n",
            "Non-trainable params: 0 (0.00 Byte)\n",
            "_________________________________________________________________\n"
          ]
        }
      ]
    },
    {
      "cell_type": "markdown",
      "source": [
        "Step 5: Train the Model\n",
        "Train the model and save checkpoints."
      ],
      "metadata": {
        "id": "Ro-NUAtAkXEL"
      }
    },
    {
      "cell_type": "code",
      "source": [
        "import tensorflow as tf\n",
        "from tensorflow.keras.models import Sequential\n",
        "from tensorflow.keras.layers import Embedding, LSTM, Dense\n",
        "import os\n",
        "\n",
        "# Sample vocabulary for demonstration purposes\n",
        "vocab = [\"a\", \"b\", \"c\", \"d\", \"e\"]  # Example vocabulary\n",
        "vocab_size = len(vocab)\n",
        "\n",
        "# The embedding dimension\n",
        "embedding_dim = 256\n",
        "\n",
        "# Number of RNN units\n",
        "rnn_units = 1024\n",
        "\n",
        "# Define BATCH_SIZE\n",
        "BATCH_SIZE = 64\n",
        "\n",
        "model = Sequential([\n",
        "    Embedding(vocab_size, embedding_dim, batch_input_shape=[BATCH_SIZE, None]),\n",
        "    LSTM(rnn_units, return_sequences=True, stateful=True, recurrent_initializer='glorot_uniform'),\n",
        "    Dense(vocab_size)\n",
        "])\n",
        "\n",
        "def loss(labels, logits):\n",
        "    return tf.keras.losses.sparse_categorical_crossentropy(labels, logits, from_logits=True)\n",
        "\n",
        "model.compile(optimizer='adam', loss=loss)\n",
        "\n",
        "# Print model summary\n",
        "model.summary()\n",
        "\n",
        "# Directory where the checkpoints will be saved\n",
        "checkpoint_dir = './training_checkpoints'\n",
        "checkpoint_prefix = os.path.join(checkpoint_dir, \"ckpt_{epoch}\")\n",
        "\n",
        "checkpoint_callback = tf.keras.callbacks.ModelCheckpoint(\n",
        "    filepath=checkpoint_prefix,\n",
        "    save_weights_only=True\n",
        ")\n",
        "\n",
        "# Create a sample dataset (replace this with your actual data loading)\n",
        "# Example: Generating random data for demonstration\n",
        "import numpy as np\n",
        "x_train = np.random.randint(0, vocab_size, (BATCH_SIZE, 10))  # Ensure batch size is BATCH_SIZE\n",
        "y_train = np.random.randint(0, vocab_size, (BATCH_SIZE, 10))\n",
        "\n",
        "# Train the model\n",
        "EPOCHS = 10\n",
        "history = model.fit(x_train, y_train, epochs=EPOCHS, batch_size=BATCH_SIZE, callbacks=[checkpoint_callback])\n"
      ],
      "metadata": {
        "colab": {
          "base_uri": "https://localhost:8080/"
        },
        "id": "lHFS0CgxhCq4",
        "outputId": "2bbca381-ac58-4664-8f7c-a1995f96dc43"
      },
      "execution_count": 15,
      "outputs": [
        {
          "output_type": "stream",
          "name": "stdout",
          "text": [
            "Model: \"sequential_4\"\n",
            "_________________________________________________________________\n",
            " Layer (type)                Output Shape              Param #   \n",
            "=================================================================\n",
            " embedding_2 (Embedding)     (64, None, 256)           1280      \n",
            "                                                                 \n",
            " lstm_3 (LSTM)               (64, None, 1024)          5246976   \n",
            "                                                                 \n",
            " dense_2 (Dense)             (64, None, 5)             5125      \n",
            "                                                                 \n",
            "=================================================================\n",
            "Total params: 5253381 (20.04 MB)\n",
            "Trainable params: 5253381 (20.04 MB)\n",
            "Non-trainable params: 0 (0.00 Byte)\n",
            "_________________________________________________________________\n",
            "Epoch 1/10\n",
            "1/1 [==============================] - 3s 3s/step - loss: 1.6096\n",
            "Epoch 2/10\n",
            "1/1 [==============================] - 1s 1s/step - loss: 1.6030\n",
            "Epoch 3/10\n",
            "1/1 [==============================] - 2s 2s/step - loss: 1.6002\n",
            "Epoch 4/10\n",
            "1/1 [==============================] - 2s 2s/step - loss: 1.5953\n",
            "Epoch 5/10\n",
            "1/1 [==============================] - 1s 1s/step - loss: 1.5955\n",
            "Epoch 6/10\n",
            "1/1 [==============================] - 1s 968ms/step - loss: 1.5935\n",
            "Epoch 7/10\n",
            "1/1 [==============================] - 1s 1s/step - loss: 1.5930\n",
            "Epoch 8/10\n",
            "1/1 [==============================] - 1s 965ms/step - loss: 1.5909\n",
            "Epoch 9/10\n",
            "1/1 [==============================] - 1s 1s/step - loss: 1.5882\n",
            "Epoch 10/10\n",
            "1/1 [==============================] - 1s 889ms/step - loss: 1.5866\n"
          ]
        }
      ]
    },
    {
      "cell_type": "markdown",
      "source": [
        "Step 6: Generate Text\n",
        "Load the trained model and generate new text."
      ],
      "metadata": {
        "id": "GucEX_a9kbzl"
      }
    },
    {
      "cell_type": "code",
      "source": [
        "import tensorflow as tf\n",
        "from tensorflow.keras.models import Sequential\n",
        "from tensorflow.keras.layers import Embedding, LSTM, Dense\n",
        "import numpy as np\n",
        "import os\n",
        "\n",
        "# Sample vocabulary for demonstration purposes\n",
        "vocab = [\"a\", \"b\", \"c\", \"d\", \"e\"]  # Example vocabulary\n",
        "vocab_size = len(vocab)\n",
        "\n",
        "# Character to index and index to character mappings\n",
        "char2idx = {char: idx for idx, char in enumerate(vocab)}\n",
        "idx2char = np.array(vocab)\n",
        "\n",
        "# The embedding dimension\n",
        "embedding_dim = 256\n",
        "\n",
        "# Number of RNN units\n",
        "rnn_units = 1024\n",
        "\n",
        "# Directory where the checkpoints will be saved\n",
        "checkpoint_dir = './training_checkpoints'\n",
        "\n",
        "# Rebuild the model for text generation with batch_size=1\n",
        "# Use the same vocabulary size as the training model\n",
        "model = Sequential([\n",
        "    Embedding(vocab_size, embedding_dim, batch_input_shape=[1, None]),\n",
        "    LSTM(rnn_units, return_sequences=True, stateful=True, recurrent_initializer='glorot_uniform'),\n",
        "    Dense(vocab_size)\n",
        "])\n",
        "\n",
        "# Load the latest checkpoint if available\n",
        "latest_checkpoint = tf.train.latest_checkpoint(checkpoint_dir)\n",
        "if latest_checkpoint:\n",
        "    model.load_weights(latest_checkpoint)\n",
        "else:\n",
        "    print(\"No checkpoint found. Please ensure that the checkpoint directory contains valid checkpoints.\")\n",
        "\n",
        "model.build(tf.TensorShape([1, None]))\n",
        "\n",
        "def generate_text(model, start_string):\n",
        "    # Evaluation step (generating text using the learned model)\n",
        "    num_generate = 1000\n",
        "\n",
        "    # Converting our start string to numbers (vectorizing)\n",
        "    input_eval = [char2idx[s] for s in start_string]\n",
        "    input_eval = tf.expand_dims(input_eval, 0)\n",
        "\n",
        "    # Empty string to store our results\n",
        "    text_generated = []\n",
        "\n",
        "    # Low temperatures result in more predictable text.\n",
        "    # Higher temperatures result in more surprising text.\n",
        "    temperature = 1.0\n",
        "\n",
        "    # Here batch size == 1\n",
        "    model.reset_states()\n",
        "    for i in range(num_generate):\n",
        "        predictions = model(input_eval)\n",
        "        # Remove the batch dimension\n",
        "        predictions = tf.squeeze(predictions, 0)\n",
        "\n",
        "        # Using a categorical distribution to predict the character returned by the model\n",
        "        predictions = predictions / temperature\n",
        "        predicted_id = tf.random.categorical(predictions, num_samples=1)[-1, 0].numpy()\n",
        "\n",
        "        # We pass the predicted character as the next input to the model\n",
        "        input_eval = tf.expand_dims([predicted_id], 0)\n",
        "\n",
        "        text_generated.append(idx2char[predicted_id])\n",
        "\n",
        "    return start_string + ''.join(text_generated)\n",
        "\n",
        "# Use a start string that only contains characters from your vocabulary\n",
        "print(generate_text(model, start_string=\"a\"))  # Ensure the start string is in the vocab\n"
      ],
      "metadata": {
        "colab": {
          "base_uri": "https://localhost:8080/"
        },
        "id": "JHsqfCishzUO",
        "outputId": "1ebcf253-69d3-44f2-d32f-1b168ec1fd87"
      },
      "execution_count": 18,
      "outputs": [
        {
          "output_type": "stream",
          "name": "stdout",
          "text": [
            "adcbbdaedeeaedccedcdbdcaaabaaabebeaccdbbdadcddccabbadabbbecacdeaceeccbddaebbedcabdaabdeabbabdccdabddbedacdcdceabccbadbdccbdedbcaddeedecbebcddbdbdadbdaaeebdebbbeeeeeecedeceeaebabbbcdeabbcaabbacdacbebddeeadcbaeaeadaddaedacaeeacddeccbbbeacdaebddbeaedcdabebeeeeedeaeddebdbaeeadecabbddbdadcddaadbadbbbbdaaabeacbeaaddabdbbdabdbdcaaddabedcbbdcaabdbaaecabebbcaaaccedebcebcabedaeccbadabecaeecbeecececbaacddbcadddeddacaadbbabbcbadbbaeabdeeaeceeeadecbbaeeaeedaaedbbbdcbdaababaabeabaedccdbdcbdddccebaedbaeecabaabcbaadadabdaedcbceeabdabdddbdbdacdedcabecbeabdeaacbbaacbaddbbcaadaecadaabaaeebbcecbddeaeadcddbbdddbaeadbbaedbeeeeadeaeecdaaebbaeacbddccbeaddabdcabbaaadbbcbaababbddecdbdabacbbadbcaadacaaeaeadcadebddeeededabdaeabdaaebdbbbbeeabbeedccedddabaadbadbcaaaebaceaabdaabbdaabddcdbadbcadeabebedbeeccdbeaddaddbabddaadaabdeeeeeceeeecddaaddddabbbcbaeeacbdeeeecbebaeedbebbeeacceabcccecacaeaededcaddbaccabbbacabdbddeddbcbedbaaecaecbadedcdabeacaeadeaeadddbdddbacebbcecebecedeadccbbadddaacacadacadbdeaddcaddddcabdedddbbbd\n"
          ]
        }
      ]
    }
  ]
}